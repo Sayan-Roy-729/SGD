{
  "cells": [
    {
      "metadata": {
        "trusted": true
      },
      "cell_type": "code",
      "source": "import numpy as np\nimport pandas as pd\nimport matplotlib.pyplot as plt\nfrom sklearn import datasets",
      "execution_count": 30,
      "outputs": []
    },
    {
      "metadata": {
        "trusted": true
      },
      "cell_type": "code",
      "source": "X, y = datasets.make_regression(n_samples = 100, n_features = 1, noise = 30, n_informative = 1, random_state = 0 )",
      "execution_count": 31,
      "outputs": []
    },
    {
      "metadata": {
        "trusted": true
      },
      "cell_type": "code",
      "source": "X = pd.DataFrame(X)\ny = pd.DataFrame(y)",
      "execution_count": 32,
      "outputs": []
    },
    {
      "metadata": {
        "trusted": true
      },
      "cell_type": "code",
      "source": "print(X.shape)\nprint(y.shape)",
      "execution_count": 33,
      "outputs": [
        {
          "output_type": "stream",
          "text": "(100, 1)\n(100, 1)\n",
          "name": "stdout"
        }
      ]
    },
    {
      "metadata": {
        "trusted": true
      },
      "cell_type": "code",
      "source": "X.head()",
      "execution_count": 34,
      "outputs": [
        {
          "output_type": "execute_result",
          "execution_count": 34,
          "data": {
            "text/html": "<div>\n<style scoped>\n    .dataframe tbody tr th:only-of-type {\n        vertical-align: middle;\n    }\n\n    .dataframe tbody tr th {\n        vertical-align: top;\n    }\n\n    .dataframe thead th {\n        text-align: right;\n    }\n</style>\n<table border=\"1\" class=\"dataframe\">\n  <thead>\n    <tr style=\"text-align: right;\">\n      <th></th>\n      <th>0</th>\n    </tr>\n  </thead>\n  <tbody>\n    <tr>\n      <th>0</th>\n      <td>-0.359553</td>\n    </tr>\n    <tr>\n      <th>1</th>\n      <td>0.976639</td>\n    </tr>\n    <tr>\n      <th>2</th>\n      <td>0.402342</td>\n    </tr>\n    <tr>\n      <th>3</th>\n      <td>-0.813146</td>\n    </tr>\n    <tr>\n      <th>4</th>\n      <td>-0.887786</td>\n    </tr>\n  </tbody>\n</table>\n</div>",
            "text/plain": "          0\n0 -0.359553\n1  0.976639\n2  0.402342\n3 -0.813146\n4 -0.887786"
          },
          "metadata": {}
        }
      ]
    },
    {
      "metadata": {
        "trusted": true
      },
      "cell_type": "code",
      "source": "for i in range(5):\n    print(X[X.index == i])",
      "execution_count": 35,
      "outputs": [
        {
          "output_type": "stream",
          "text": "          0\n0 -0.359553\n          0\n1  0.976639\n          0\n2  0.402342\n          0\n3 -0.813146\n          0\n4 -0.887786\n",
          "name": "stdout"
        }
      ]
    },
    {
      "metadata": {
        "trusted": true
      },
      "cell_type": "code",
      "source": "data = X[X.index == 1]\ndata.values",
      "execution_count": 36,
      "outputs": [
        {
          "output_type": "execute_result",
          "execution_count": 36,
          "data": {
            "text/plain": "array([[0.97663904]])"
          },
          "metadata": {}
        }
      ]
    },
    {
      "metadata": {
        "trusted": true
      },
      "cell_type": "code",
      "source": "m = 0\nb = 0\n\nfor i in range(100):\n    X1 = X[X.index == i]\n    \n    y1 = y[y.index == i]\n    \n    y_pred = m * X1.values[0][0] + b\n    \n    loss = (y1.values[0][0] - y_pred) ** 2\n    \n    d_m = -2 * (y1.values[0][0] - y_pred) * X1.values[0][0]\n    \n    d_b = -2 * (y1.values[0][0] - y_pred)\n    \n    m = m - 0.001 * d_m\n    b = b - 0.001 * d_b\n    \n    print(f\"The iteration is {i} and the loss value is {loss}\")",
      "execution_count": 37,
      "outputs": [
        {
          "output_type": "stream",
          "text": "The iteration is 0 and the loss value is 863.6529147791911\nThe iteration is 1 and the loss value is 350.9336270604811\nThe iteration is 2 and the loss value is 0.4438735961937576\nThe iteration is 3 and the loss value is 399.5121488255582\nThe iteration is 4 and the loss value is 1013.1866395513032\nThe iteration is 5 and the loss value is 2159.8338854460676\nThe iteration is 6 and the loss value is 7404.7590246392465\nThe iteration is 7 and the loss value is 276.399276676871\nThe iteration is 8 and the loss value is 2191.5058756856583\nThe iteration is 9 and the loss value is 1640.1286033724618\nThe iteration is 10 and the loss value is 1506.0064652579072\nThe iteration is 11 and the loss value is 300.5960721190498\nThe iteration is 12 and the loss value is 9712.700966538898\nThe iteration is 13 and the loss value is 2530.2720715344053\nThe iteration is 14 and the loss value is 1348.7342487577655\nThe iteration is 15 and the loss value is 6557.9993932040325\nThe iteration is 16 and the loss value is 0.08539591385828871\nThe iteration is 17 and the loss value is 4737.945010718975\nThe iteration is 18 and the loss value is 13454.747914669842\nThe iteration is 19 and the loss value is 155.92977569618134\nThe iteration is 20 and the loss value is 5019.5327502013615\nThe iteration is 21 and the loss value is 4672.465662125729\nThe iteration is 22 and the loss value is 1474.4971156385086\nThe iteration is 23 and the loss value is 223.0011983553782\nThe iteration is 24 and the loss value is 4774.2863427903485\nThe iteration is 25 and the loss value is 9866.722245140787\nThe iteration is 26 and the loss value is 8122.0505391435945\nThe iteration is 27 and the loss value is 57.125949987496085\nThe iteration is 28 and the loss value is 1393.032283365267\nThe iteration is 29 and the loss value is 5029.31937534058\nThe iteration is 30 and the loss value is 3980.7383037604463\nThe iteration is 31 and the loss value is 261.1704774608026\nThe iteration is 32 and the loss value is 3892.048363471445\nThe iteration is 33 and the loss value is 3285.6158139915838\nThe iteration is 34 and the loss value is 4514.559659395525\nThe iteration is 35 and the loss value is 2579.7170074591813\nThe iteration is 36 and the loss value is 2537.565067768286\nThe iteration is 37 and the loss value is 23.856782408729092\nThe iteration is 38 and the loss value is 2713.51946040539\nThe iteration is 39 and the loss value is 832.911589466155\nThe iteration is 40 and the loss value is 89.95628971186841\nThe iteration is 41 and the loss value is 266.84361181830786\nThe iteration is 42 and the loss value is 3845.17950609241\nThe iteration is 43 and the loss value is 2328.060127737415\nThe iteration is 44 and the loss value is 647.5583353001148\nThe iteration is 45 and the loss value is 4720.6174039506395\nThe iteration is 46 and the loss value is 7590.594574763245\nThe iteration is 47 and the loss value is 932.8114151978539\nThe iteration is 48 and the loss value is 3561.8490287808163\nThe iteration is 49 and the loss value is 1420.5648017404994\nThe iteration is 50 and the loss value is 19.117891315268192\nThe iteration is 51 and the loss value is 8259.8819800376\nThe iteration is 52 and the loss value is 1612.9498598627758\nThe iteration is 53 and the loss value is 121.90113398597015\nThe iteration is 54 and the loss value is 970.1105099513885\nThe iteration is 55 and the loss value is 471.57034123350616\nThe iteration is 56 and the loss value is 1210.3663288551834\nThe iteration is 57 and the loss value is 18316.81233074868\nThe iteration is 58 and the loss value is 4482.869226671905\nThe iteration is 59 and the loss value is 0.9073750153037212\nThe iteration is 60 and the loss value is 899.3044661150207\nThe iteration is 61 and the loss value is 68.03740140837597\nThe iteration is 62 and the loss value is 390.9772566817724\nThe iteration is 63 and the loss value is 7596.044721637911\nThe iteration is 64 and the loss value is 12632.502054982911\nThe iteration is 65 and the loss value is 2668.480765427856\nThe iteration is 66 and the loss value is 2287.973980743275\nThe iteration is 67 and the loss value is 2771.2056781856845\nThe iteration is 68 and the loss value is 569.4210776334384\nThe iteration is 69 and the loss value is 8601.61213357552\nThe iteration is 70 and the loss value is 6372.0989299382545\nThe iteration is 71 and the loss value is 185.00748781275158\nThe iteration is 72 and the loss value is 2732.674715037475\nThe iteration is 73 and the loss value is 570.361975119398\nThe iteration is 74 and the loss value is 330.44060094243974\nThe iteration is 75 and the loss value is 6591.801362904844\nThe iteration is 76 and the loss value is 1381.4446783796632\nThe iteration is 77 and the loss value is 1.2707937785319205\nThe iteration is 78 and the loss value is 0.5525233803635823\nThe iteration is 79 and the loss value is 761.9488315264773\nThe iteration is 80 and the loss value is 1356.9318188836153\nThe iteration is 81 and the loss value is 244.18942958528228\nThe iteration is 82 and the loss value is 140.38240904260073\nThe iteration is 83 and the loss value is 1319.789748570505\nThe iteration is 84 and the loss value is 206.00444214569404\nThe iteration is 85 and the loss value is 2450.2134882327546\nThe iteration is 86 and the loss value is 124.23587407061886\nThe iteration is 87 and the loss value is 1450.6272092665151\nThe iteration is 88 and the loss value is 1857.3856390608205\nThe iteration is 89 and the loss value is 321.1521078717446\nThe iteration is 90 and the loss value is 592.8143265433037\nThe iteration is 91 and the loss value is 114.42221353783961\nThe iteration is 92 and the loss value is 2517.0906836189924\nThe iteration is 93 and the loss value is 31.92157176275804\nThe iteration is 94 and the loss value is 708.7493541125441\nThe iteration is 95 and the loss value is 1423.524452759714\nThe iteration is 96 and the loss value is 1032.8610489787507\nThe iteration is 97 and the loss value is 5.345461728940312\nThe iteration is 98 and the loss value is 82.96928005257197\nThe iteration is 99 and the loss value is 3259.803030590776\n",
          "name": "stdout"
        }
      ]
    },
    {
      "metadata": {
        "trusted": true
      },
      "cell_type": "code",
      "source": "",
      "execution_count": null,
      "outputs": []
    }
  ],
  "metadata": {
    "kernelspec": {
      "name": "python36",
      "display_name": "Python 3.6",
      "language": "python"
    },
    "language_info": {
      "mimetype": "text/x-python",
      "nbconvert_exporter": "python",
      "name": "python",
      "pygments_lexer": "ipython3",
      "version": "3.6.6",
      "file_extension": ".py",
      "codemirror_mode": {
        "version": 3,
        "name": "ipython"
      }
    }
  },
  "nbformat": 4,
  "nbformat_minor": 2
}